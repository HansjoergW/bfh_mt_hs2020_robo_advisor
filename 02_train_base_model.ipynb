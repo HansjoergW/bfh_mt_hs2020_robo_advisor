{
 "cells": [
  {
   "cell_type": "markdown",
   "metadata": {},
   "source": [
    "# Creating a BaseModel"
   ]
  },
  {
   "cell_type": "code",
   "execution_count": 1,
   "metadata": {},
   "outputs": [],
   "source": [
    "from pathlib import Path\n",
    "from typing import List, Tuple, Union, Set\n",
    "import glob\n",
    "\n",
    "import pandas as pd\n",
    "import numpy as np\n",
    "\n",
    "import shutil          # provides high level file operations\n",
    "import time            # used to measure execution time\n",
    "import os\n",
    "import sys\n",
    "\n",
    "from pyspark.sql.functions import col\n",
    "\n",
    "import matplotlib.pyplot as plt\n",
    "import seaborn as sns; sns.set()"
   ]
  },
  {
   "cell_type": "code",
   "execution_count": 2,
   "metadata": {},
   "outputs": [],
   "source": [
    "trainingset_folder = \"D:/data_mt/09_training/\"\n",
    "\n",
    "trainingset_robo_folder = \"D:/data_mt/09_training_robo/\"\n",
    "stock_data_folder = trainingset_robo_folder + \"01_stocks_w_potential/\"\n",
    "combine_data_folder = trainingset_robo_folder + \"02_combined_w_potential/\"\n",
    "combine_data_file = trainingset_robo_folder + \"03_all_combine_data_w_potential\"\n",
    "\n",
    "model_folder = \"D:/data_mt/10_models/\"\n",
    "model_name   = \"02_base_model\""
   ]
  },
  {
   "cell_type": "markdown",
   "metadata": {},
   "source": [
    "## 01_Tools"
   ]
  },
  {
   "cell_type": "code",
   "execution_count": 3,
   "metadata": {},
   "outputs": [],
   "source": [
    "def load_additional_info() -> pd.DataFrame:\n",
    "    return pd.read_csv(trainingset_folder + \"company_info.csv\", sep=',', encoding='utf-8', header=0)"
   ]
  },
  {
   "cell_type": "code",
   "execution_count": 4,
   "metadata": {},
   "outputs": [],
   "source": [
    "def load_stock_history(ticker:str):\n",
    "    df =  pd.read_csv(combine_data_folder + ticker[0] + \"/\" + ticker + \".csv\")\n",
    "    df.Date = pd.to_datetime(df.Date)\n",
    "    return df"
   ]
  },
  {
   "cell_type": "code",
   "execution_count": 5,
   "metadata": {},
   "outputs": [],
   "source": [
    "import findspark\n",
    "from pyspark.sql import SparkSession\n",
    "def get_spark_session(appname = \"default\"):\n",
    "    \"\"\"\n",
    "    Initialises a spark session. \n",
    "    Parameters:\n",
    "    appname - default is \"default\"\n",
    "    \"\"\"\n",
    "    findspark.init()\n",
    "    return SparkSession.builder \\\n",
    "                        .appName(appname) \\\n",
    "                        .getOrCreate()"
   ]
  },
  {
   "cell_type": "code",
   "execution_count": 6,
   "metadata": {},
   "outputs": [
    {
     "data": {
      "text/html": [
       "\n",
       "            <div>\n",
       "                <p><b>SparkSession - in-memory</b></p>\n",
       "                \n",
       "        <div>\n",
       "            <p><b>SparkContext</b></p>\n",
       "\n",
       "            <p><a href=\"http://192.168.0.163:4042\">Spark UI</a></p>\n",
       "\n",
       "            <dl>\n",
       "              <dt>Version</dt>\n",
       "                <dd><code>v2.4.5</code></dd>\n",
       "              <dt>Master</dt>\n",
       "                <dd><code>local[*]</code></dd>\n",
       "              <dt>AppName</dt>\n",
       "                <dd><code>default</code></dd>\n",
       "            </dl>\n",
       "        </div>\n",
       "        \n",
       "            </div>\n",
       "        "
      ],
      "text/plain": [
       "<pyspark.sql.session.SparkSession at 0x22147c6bc48>"
      ]
     },
     "execution_count": 6,
     "metadata": {},
     "output_type": "execute_result"
    }
   ],
   "source": [
    "# init Spark\n",
    "spark = get_spark_session() # Session anlegen\n",
    "spark # display the moste important information of the session"
   ]
  },
  {
   "cell_type": "markdown",
   "metadata": {},
   "source": [
    "## 02_Load Data"
   ]
  },
  {
   "cell_type": "code",
   "execution_count": 7,
   "metadata": {},
   "outputs": [
    {
     "data": {
      "text/plain": [
       "4365181"
      ]
     },
     "execution_count": 7,
     "metadata": {},
     "output_type": "execute_result"
    }
   ],
   "source": [
    "df_all = spark.read.parquet(combined_data_file)\n",
    "df_all.count()"
   ]
  },
  {
   "cell_type": "code",
   "execution_count": 8,
   "metadata": {},
   "outputs": [],
   "source": [
    "add_info = load_additional_info()"
   ]
  },
  {
   "cell_type": "markdown",
   "metadata": {},
   "source": [
    "## 03_Build Train and Testdata"
   ]
  },
  {
   "cell_type": "code",
   "execution_count": 9,
   "metadata": {},
   "outputs": [],
   "source": [
    "features = ['r_workcapToAssets', 'r_currentRatio', 'r_deptToEquity', 'r_deptRatio', 'r_netProfitMargin', 'r_operatingMargin', 'r_netIncomeMargin', \n",
    "            'r_cashGenPowerRatio', 'r_extFinancingIndexRatio', 'r_returnOnEquity', 'r_returnOnAssets', 'r_assetsTurnoverRatio', 'r_dividendPayoutRatio', \n",
    "            'r_stockRepurchaseRatio', 'r_operatingCashFlowRatio', 'r_assetEfficiencyRatio', 'r_currentLiabCoverageRatio', 'r_longtermDeptCoverageRatio',\n",
    "            'gr_revenue_n', 'gr_revenue_p', 'gr_grosspr_n', 'gr_grosspr_p', 'gr_opiincome_n', 'gr_opiincome_p', 'gr_netincome_n', 'gr_netincome_p', \n",
    "            'gr_earnings_n', 'gr_earnings_p', 'gr_equity_n', 'gr_equity_p', 'gr_asscur_n', 'gr_asscur_p', 'gr_assnoncur_n', 'gr_assnoncur_p', \n",
    "            'gr_liabcur_n', 'gr_liabcur_p', 'gr_liabnoncur_n', 'gr_liabnoncur_p', 'gr_cashfrominv_n', 'gr_cashfrominv_p', \n",
    "            'gr_cashfromfin_n', 'gr_cashfromfin_p', 'gr_cashfromope_n', 'gr_cashfromope_p', 'gr_dividends_n', 'gr_dividends_p',\n",
    "            'fp__FY', 'fp__Q1', 'fp__Q2', 'fp__Q3', 'fp__Q4',\n",
    "            'close_norm', 'high_norm', 'low_norm', 'open_norm', 'volume_norm', 'close_chg', 'volume_chg', \n",
    "            'day_of_week', 'day_of_month', 'day_of_year', 'week_of_year', 'month_of_year', \n",
    "            'pr_p2e', 'pr_p2b', 'pr_p2egr_1y'       \n",
    "           ]\n",
    "\n",
    "label =    'r_potential'\n",
    "\n",
    "all_cols = list(features)\n",
    "all_cols.append(label)"
   ]
  },
  {
   "cell_type": "code",
   "execution_count": 10,
   "metadata": {},
   "outputs": [],
   "source": [
    "filter_no_potential = \"r_potential > -1.0\" "
   ]
  },
  {
   "cell_type": "code",
   "execution_count": 11,
   "metadata": {},
   "outputs": [],
   "source": [
    "top_30 = add_info[add_info.mc_top30 == 1].ticker.to_list()\n",
    "top_50 = add_info[add_info.mc_top50 == 1].ticker.to_list()\n",
    "top_100 = add_info[add_info.mc_top100 == 1].ticker.to_list()\n",
    "top_1000 = add_info[add_info.mc_top100 == 1].ticker.to_list()"
   ]
  },
  {
   "cell_type": "markdown",
   "metadata": {},
   "source": [
    "### as a first test, create a test / training set only of the top 30 market capt in the dataset"
   ]
  },
  {
   "cell_type": "code",
   "execution_count": 12,
   "metadata": {},
   "outputs": [],
   "source": [
    "df_train_test = df_all.where(col('ticker').isin(top_30)) \\\n",
    "                      .where(filter_no_potential) \\\n",
    "                      .select(all_cols)"
   ]
  },
  {
   "cell_type": "code",
   "execution_count": 13,
   "metadata": {},
   "outputs": [
    {
     "data": {
      "text/plain": [
       "60860"
      ]
     },
     "execution_count": 13,
     "metadata": {},
     "output_type": "execute_result"
    }
   ],
   "source": [
    "df_train_test.count()"
   ]
  },
  {
   "cell_type": "code",
   "execution_count": 14,
   "metadata": {},
   "outputs": [],
   "source": [
    "# define what the label column is\n",
    "df_train_test = df_train_test.withColumn(\"label\", col('r_potential'))"
   ]
  },
  {
   "cell_type": "markdown",
   "metadata": {},
   "source": [
    "## 04_Train Model\n",
    "Follow https://www.silect.is/blog/random-forest-models-in-spark-ml/"
   ]
  },
  {
   "cell_type": "code",
   "execution_count": 43,
   "metadata": {},
   "outputs": [],
   "source": [
    "from pyspark.ml.feature import VectorAssembler\n",
    "from pyspark.ml.regression import RandomForestRegressor\n",
    "from pyspark.ml import Pipeline\n",
    "\n",
    "assembler = VectorAssembler(inputCols=features, outputCol=\"features\")\n",
    "\n",
    "rf = RandomForestRegressor(labelCol=\"label\", featuresCol=\"features\")\n",
    "\n",
    "pipeline = Pipeline(stages=[assembler, rf])"
   ]
  },
  {
   "cell_type": "code",
   "execution_count": 126,
   "metadata": {},
   "outputs": [],
   "source": [
    "from pyspark.ml.tuning import ParamGridBuilder\n",
    "\n",
    "# a first test showed that numOfTrees with 50 and max depth of 25 was a good starting point\n",
    "paramGrid = ParamGridBuilder() \\\n",
    "    .addGrid(rf.numTrees, [50]) \\\n",
    "    .addGrid(rf.maxDepth, [25]) \\\n",
    "    .build()"
   ]
  },
  {
   "cell_type": "code",
   "execution_count": 127,
   "metadata": {},
   "outputs": [],
   "source": [
    "from pyspark.ml.tuning import CrossValidator\n",
    "from pyspark.ml.evaluation import RegressionEvaluator\n",
    "\n",
    "crossval = CrossValidator(estimator=pipeline,\n",
    "                          estimatorParamMaps=paramGrid,\n",
    "                          evaluator=RegressionEvaluator(),\n",
    "                          numFolds=3)"
   ]
  },
  {
   "cell_type": "code",
   "execution_count": 15,
   "metadata": {},
   "outputs": [],
   "source": [
    "(trainingData, testData) = df_train_test.randomSplit([0.8, 0.2])"
   ]
  },
  {
   "cell_type": "code",
   "execution_count": 47,
   "metadata": {},
   "outputs": [],
   "source": [
    "cvModel = crossval.fit(trainingData)"
   ]
  },
  {
   "cell_type": "code",
   "execution_count": null,
   "metadata": {},
   "outputs": [],
   "source": [
    "# save Model for further reference\n",
    "pip_model = cvModel.bestModel\n",
    "pip_model.write().overwrite().save(model_folder + model_name)"
   ]
  },
  {
   "cell_type": "code",
   "execution_count": null,
   "metadata": {},
   "outputs": [],
   "source": [
    "print('numTrees - ', pip_model.getNumTrees)\n",
    "print('maxDepth - ', pip_model.getOrDefault('maxDepth'))"
   ]
  },
  {
   "cell_type": "markdown",
   "metadata": {},
   "source": [
    "## 05_Test and do some primary analysis"
   ]
  },
  {
   "cell_type": "code",
   "execution_count": 16,
   "metadata": {},
   "outputs": [],
   "source": [
    "# Load Model\n",
    "from pyspark.ml import PipelineModel\n",
    "cvModel = PipelineModel.load(model_folder + model_name)"
   ]
  },
  {
   "cell_type": "markdown",
   "metadata": {},
   "source": [
    "### check predictions"
   ]
  },
  {
   "cell_type": "code",
   "execution_count": 19,
   "metadata": {},
   "outputs": [],
   "source": [
    "predictions = cvModel.transform(testData)"
   ]
  },
  {
   "cell_type": "code",
   "execution_count": 21,
   "metadata": {},
   "outputs": [
    {
     "name": "stdout",
     "output_type": "stream",
     "text": [
      "Model Performance RMSE: 0.062038\n"
     ]
    }
   ],
   "source": [
    "from pyspark.ml.evaluation import RegressionEvaluator\n",
    "evaluator = RegressionEvaluator(labelCol=\"label\", predictionCol=\"prediction\", metricName=\"rmse\")\n",
    "rmse = evaluator.evaluate(predictions)\n",
    "print(\"Model Performance RMSE: %f\" % rmse)"
   ]
  },
  {
   "cell_type": "code",
   "execution_count": 30,
   "metadata": {},
   "outputs": [],
   "source": [
    "rfPred = cvModel.transform(testData)\n",
    "rfResult = rfPred.toPandas()"
   ]
  },
  {
   "cell_type": "code",
   "execution_count": 31,
   "metadata": {},
   "outputs": [
    {
     "data": {
      "image/png": "[encoded data removed]",
      "text/plain": [
       "<Figure size 504x504 with 1 Axes>"
      ]
     },
     "metadata": {},
     "output_type": "display_data"
    }
   ],
   "source": [
    "import matplotlib.pyplot as plt\n",
    "\n",
    "f, ax = plt.subplots(figsize=(7,7))\n",
    "\n",
    "plt.plot(rfResult.label, rfResult.prediction, 'bo')\n",
    "\n",
    "plt.xlabel('Potential')\n",
    "plt.ylabel('Prediction')\n",
    "\n",
    "plt.show()"
   ]
  },
  {
   "cell_type": "markdown",
   "metadata": {},
   "source": [
    "It is almost to good to be true how well the model fits the data. Buy we may not forget, that 80% of the data that is shown in the chart above was the trainingdata. Moreover, due to the characteristics of the data the testdata set is also very \"similar\" to the training data. We can make the argument that all of the shown datapoints were seen during training. But what we would be intersted in knowing how the model works with unseen data.\n",
    "\n",
    "Therefore, the chart above isn't really meaningful. It only tells us, that the pipeline in general worked."
   ]
  },
  {
   "cell_type": "markdown",
   "metadata": {},
   "source": [
    "### Feature Importance"
   ]
  },
  {
   "cell_type": "code",
   "execution_count": 29,
   "metadata": {},
   "outputs": [
    {
     "data": {
      "text/plain": [
       "Text(0.5, 1.0, 'Feature Importances')"
      ]
     },
     "execution_count": 29,
     "metadata": {},
     "output_type": "execute_result"
    },
    {
     "data": {
      "image/png": "[encoded data removed]",
      "text/plain": [
       "<Figure size 1224x360 with 1 Axes>"
      ]
     },
     "metadata": {},
     "output_type": "display_data"
    }
   ],
   "source": [
    "bestModel = cvModel.stages[1]\n",
    "importances = bestModel.featureImportances\n",
    "x_values = list(range(len(importances)))\n",
    "\n",
    "f, ax = plt.subplots(figsize=(17,5))\n",
    "\n",
    "plt.bar(x_values, importances, orientation = 'vertical')\n",
    "plt.xticks(x_values, features, rotation=90)\n",
    "plt.ylabel('Importance')\n",
    "plt.xlabel('Feature')\n",
    "plt.title('Feature Importances')"
   ]
  },
  {
   "cell_type": "markdown",
   "metadata": {},
   "source": [
    "What can be clearly seen is that \"close_norm\" ist the most importang feature. \"close_norm\" is simply the daily \"close\"-price normalized based on the last Closed Price in the data. The stockprice tends to grow over time (at least in the mean), that means generally at the end of of the data the value will be closer to 1.0. So \"close_norm\" kinda knows what kind of potential is left. Therefore, it is not a good idea that this feature is taken into consideration.\n",
    "\n",
    "Moreover, also high_norm, low_norm or open_norm do really proved value.\n",
    "\n",
    "It is interesting to see, that deptRatio, netProfitMargin and netIcnomeMargin are rather important features. This makes sense, since these are important number an investor looks into. The same is true for revenue growth (gr_revenue_p), current assets growth (gr_asscur_p), non current assets growth (gr_assnoncur_p) and current liabilities growth (gr_liabcur) are important, since they give a hint on how well a company is generating cash. \n",
    "Also the importance of the price to pook ratio (pr_p2b) makes sense, since this tells us how much a company is worth at the moment for every dollar of the stockprice."
   ]
  },
  {
   "cell_type": "markdown",
   "metadata": {},
   "source": [
    "## 06_Test on unseen data"
   ]
  },
  {
   "cell_type": "markdown",
   "metadata": {},
   "source": [
    "As mentioned above in the previous chart we basically one made prediction on trainingdata, which of course, looks exceptionally well. But the real question is how good it is on unseen data.\n",
    "\n",
    "The model was trainined on the data of the 30 companies with the biggest market capitalization. Now we will create a test set with the companies ranking 31 to 100 in market capitalization."
   ]
  },
  {
   "cell_type": "code",
   "execution_count": 17,
   "metadata": {},
   "outputs": [
    {
     "data": {
      "text/plain": [
       "140844"
      ]
     },
     "execution_count": 17,
     "metadata": {},
     "output_type": "execute_result"
    }
   ],
   "source": [
    "top_30_to_100 = set(top_100) - set(top_30)\n",
    "df_30_100 = df_all.where(col('ticker').isin(top_30_to_100)) \\\n",
    "                 .where(filter_no_potential) \\\n",
    "                 .select(all_cols)\n",
    "df_30_100.count()"
   ]
  },
  {
   "cell_type": "code",
   "execution_count": 18,
   "metadata": {},
   "outputs": [
    {
     "data": {
      "text/plain": [
       "140843"
      ]
     },
     "execution_count": 18,
     "metadata": {},
     "output_type": "execute_result"
    }
   ],
   "source": [
    "# for some reason there is a data point which has a null value somewhere.. so we make sure that there are no null values\n",
    "df_30_100 = df_30_100.na.drop(how=\"any\")\n",
    "df_30_100.count()"
   ]
  },
  {
   "cell_type": "code",
   "execution_count": 19,
   "metadata": {},
   "outputs": [],
   "source": [
    "rfPred = cvModel.transform(df_30_100)\n",
    "rfResult = rfPred.toPandas()"
   ]
  },
  {
   "cell_type": "code",
   "execution_count": 20,
   "metadata": {},
   "outputs": [
    {
     "name": "stdout",
     "output_type": "stream",
     "text": [
      "Model Performance RMSE: 0.330407\n"
     ]
    }
   ],
   "source": [
    "from pyspark.ml.evaluation import RegressionEvaluator\n",
    "evaluator = RegressionEvaluator(labelCol=\"r_potential\", predictionCol=\"prediction\", metricName=\"rmse\")\n",
    "rmse = evaluator.evaluate(rfPred)\n",
    "print(\"Model Performance RMSE: %f\" % rmse)"
   ]
  },
  {
   "cell_type": "code",
   "execution_count": 21,
   "metadata": {},
   "outputs": [
    {
     "data": {
      "image/png": "[encoded data removed]",
      "text/plain": [
       "<Figure size 1080x504 with 1 Axes>"
      ]
     },
     "metadata": {},
     "output_type": "display_data"
    }
   ],
   "source": [
    "f, ax = plt.subplots(figsize=(15,7))\n",
    "\n",
    "plt.plot(rfResult.r_potential, rfResult.prediction,'b.')\n",
    "\n",
    "plt.xlabel('Potential')\n",
    "plt.ylabel('Prediction')\n",
    "\n",
    "plt.show()"
   ]
  },
  {
   "cell_type": "markdown",
   "metadata": {},
   "source": [
    "This doesn't look too bad: points with a higher prediction seem to have a higher real potential.\n",
    "Let's have a deeper look and look only at datapoints which had a prediction of > .5"
   ]
  },
  {
   "cell_type": "markdown",
   "metadata": {},
   "source": [
    "Now let's see what would happen if we only selected a subset of data based on a specific prediction threshold. We will u se thresholds 0.1, 0.3, 0.5, 0.75, 1.0 and 1.5."
   ]
  },
  {
   "cell_type": "code",
   "execution_count": 22,
   "metadata": {},
   "outputs": [],
   "source": [
    "def filter_based_prediction(df, min_prediction: float):\n",
    "    return df[df.prediction > min_prediction]"
   ]
  },
  {
   "cell_type": "code",
   "execution_count": 33,
   "metadata": {},
   "outputs": [],
   "source": [
    "pred_all = filter_based_prediction(rfResult, -2.0)\n",
    "pred_min_10 = filter_based_prediction(rfResult, 0.1)\n",
    "pred_min_30 = filter_based_prediction(rfResult, 0.3)\n",
    "pred_min_50 = filter_based_prediction(rfResult, 0.5)\n",
    "pred_min_75 = filter_based_prediction(rfResult, 0.75)\n",
    "pred_min_100 = filter_based_prediction(rfResult, 1.0)\n",
    "pred_min_150 = filter_based_prediction(rfResult, 1.5)\n",
    "pred_min_180 = filter_based_prediction(rfResult, 1.8)\n",
    "\n",
    "data_sets = [pred_all, pred_min_10, pred_min_30, pred_min_50, pred_min_75, pred_min_100, pred_min_150,]\n",
    "labels = ['all', 'above 10%', 'above 30%','above 50%','above 75%','above 100%','above 150%']\n",
    "#data_sets = [pred_all, pred_min_10, pred_min_30, pred_min_50, pred_min_75, pred_min_100, pred_min_150, pred_min_180]\n",
    "#labels = ['all', 'above 10%', 'above 30%','above 50%','above 75%','above 100%','above 150%', 'above 180%']"
   ]
  },
  {
   "cell_type": "code",
   "execution_count": 34,
   "metadata": {},
   "outputs": [],
   "source": [
    "def calculate_zero_comparison(name, df):\n",
    "    points_total = df.shape[0]\n",
    "    points_below_zero = df[df.r_potential < 0].shape[0]\n",
    "    points_below_zero_pro = 100 * points_below_zero / points_total\n",
    "    describe = df.r_potential.describe() \n",
    "    return [name, points_total, points_below_zero, points_below_zero_pro, describe.loc['25%'],describe.loc['50%'], describe.loc['75%']]"
   ]
  },
  {
   "cell_type": "code",
   "execution_count": 35,
   "metadata": {},
   "outputs": [],
   "source": [
    "data = [calculate_zero_comparison(x[1], x[0]) for x in zip(data_sets, labels)]\n",
    "zero_compare = pd.DataFrame(data, columns =['Name', 'Total_Points', 'Below_Zero', 'Below_Zero %', '25%', '50%', '75%'], dtype = float) "
   ]
  },
  {
   "cell_type": "code",
   "execution_count": 36,
   "metadata": {},
   "outputs": [
    {
     "data": {
      "image/png": "[encoded data removed]",
      "text/plain": [
       "<Figure size 1440x504 with 1 Axes>"
      ]
     },
     "metadata": {},
     "output_type": "display_data"
    }
   ],
   "source": [
    "data = [x.r_potential.tolist() for x in data_sets]\n",
    "\n",
    "fig, ax = plt.subplots(figsize=(20,7))\n",
    "ax.boxplot(data, showmeans=True)\n",
    "plt.xticks(np.arange(len(labels))+1,labels)\n",
    "plt.show()"
   ]
  },
  {
   "cell_type": "code",
   "execution_count": 27,
   "metadata": {},
   "outputs": [
    {
     "data": {
      "text/html": [
       "<div>\n",
       "<style scoped>\n",
       "    .dataframe tbody tr th:only-of-type {\n",
       "        vertical-align: middle;\n",
       "    }\n",
       "\n",
       "    .dataframe tbody tr th {\n",
       "        vertical-align: top;\n",
       "    }\n",
       "\n",
       "    .dataframe thead th {\n",
       "        text-align: right;\n",
       "    }\n",
       "</style>\n",
       "<table border=\"1\" class=\"dataframe\">\n",
       "  <thead>\n",
       "    <tr style=\"text-align: right;\">\n",
       "      <th></th>\n",
       "      <th>Name</th>\n",
       "      <th>Total_Points</th>\n",
       "      <th>Below_Zero</th>\n",
       "      <th>Below_Zero %</th>\n",
       "      <th>25%</th>\n",
       "      <th>50%</th>\n",
       "      <th>75%</th>\n",
       "    </tr>\n",
       "  </thead>\n",
       "  <tbody>\n",
       "    <tr>\n",
       "      <th>0</th>\n",
       "      <td>all</td>\n",
       "      <td>140843.0</td>\n",
       "      <td>14280.0</td>\n",
       "      <td>10.138949</td>\n",
       "      <td>0.096731</td>\n",
       "      <td>0.213298</td>\n",
       "      <td>0.357509</td>\n",
       "    </tr>\n",
       "    <tr>\n",
       "      <th>1</th>\n",
       "      <td>above 10%</td>\n",
       "      <td>110021.0</td>\n",
       "      <td>6831.0</td>\n",
       "      <td>6.208815</td>\n",
       "      <td>0.134808</td>\n",
       "      <td>0.248201</td>\n",
       "      <td>0.397674</td>\n",
       "    </tr>\n",
       "    <tr>\n",
       "      <th>2</th>\n",
       "      <td>above 30%</td>\n",
       "      <td>48827.0</td>\n",
       "      <td>2749.0</td>\n",
       "      <td>5.630082</td>\n",
       "      <td>0.159668</td>\n",
       "      <td>0.289229</td>\n",
       "      <td>0.493632</td>\n",
       "    </tr>\n",
       "    <tr>\n",
       "      <th>3</th>\n",
       "      <td>above 50%</td>\n",
       "      <td>11548.0</td>\n",
       "      <td>848.0</td>\n",
       "      <td>7.343263</td>\n",
       "      <td>0.203616</td>\n",
       "      <td>0.388596</td>\n",
       "      <td>0.735051</td>\n",
       "    </tr>\n",
       "    <tr>\n",
       "      <th>4</th>\n",
       "      <td>above 75%</td>\n",
       "      <td>3752.0</td>\n",
       "      <td>423.0</td>\n",
       "      <td>11.273987</td>\n",
       "      <td>0.229684</td>\n",
       "      <td>0.520901</td>\n",
       "      <td>1.055758</td>\n",
       "    </tr>\n",
       "    <tr>\n",
       "      <th>5</th>\n",
       "      <td>above 100%</td>\n",
       "      <td>1725.0</td>\n",
       "      <td>333.0</td>\n",
       "      <td>19.304348</td>\n",
       "      <td>0.058673</td>\n",
       "      <td>0.573970</td>\n",
       "      <td>1.283764</td>\n",
       "    </tr>\n",
       "    <tr>\n",
       "      <th>6</th>\n",
       "      <td>above 150%</td>\n",
       "      <td>613.0</td>\n",
       "      <td>88.0</td>\n",
       "      <td>14.355628</td>\n",
       "      <td>0.217429</td>\n",
       "      <td>0.828080</td>\n",
       "      <td>2.356828</td>\n",
       "    </tr>\n",
       "    <tr>\n",
       "      <th>7</th>\n",
       "      <td>above 180%</td>\n",
       "      <td>181.0</td>\n",
       "      <td>2.0</td>\n",
       "      <td>1.104972</td>\n",
       "      <td>0.435845</td>\n",
       "      <td>0.719828</td>\n",
       "      <td>2.555085</td>\n",
       "    </tr>\n",
       "  </tbody>\n",
       "</table>\n",
       "</div>"
      ],
      "text/plain": [
       "         Name  Total_Points  Below_Zero  Below_Zero %       25%       50%  \\\n",
       "0         all      140843.0     14280.0     10.138949  0.096731  0.213298   \n",
       "1   above 10%      110021.0      6831.0      6.208815  0.134808  0.248201   \n",
       "2   above 30%       48827.0      2749.0      5.630082  0.159668  0.289229   \n",
       "3   above 50%       11548.0       848.0      7.343263  0.203616  0.388596   \n",
       "4   above 75%        3752.0       423.0     11.273987  0.229684  0.520901   \n",
       "5  above 100%        1725.0       333.0     19.304348  0.058673  0.573970   \n",
       "6  above 150%         613.0        88.0     14.355628  0.217429  0.828080   \n",
       "7  above 180%         181.0         2.0      1.104972  0.435845  0.719828   \n",
       "\n",
       "        75%  \n",
       "0  0.357509  \n",
       "1  0.397674  \n",
       "2  0.493632  \n",
       "3  0.735051  \n",
       "4  1.055758  \n",
       "5  1.283764  \n",
       "6  2.356828  \n",
       "7  2.555085  "
      ]
     },
     "execution_count": 27,
     "metadata": {},
     "output_type": "execute_result"
    }
   ],
   "source": [
    "zero_compare"
   ]
  },
  {
   "cell_type": "markdown",
   "metadata": {},
   "source": [
    "The Boxplots and the data above are quite encouraging. filtering for higher predictions does raise the 50% value of the potential. "
   ]
  },
  {
   "cell_type": "markdown",
   "metadata": {},
   "source": [
    "features anpassen\n",
    "- kein close_norm\n",
    "- keine anderen stock werte\n",
    "- keine day of..\n",
    "- neue hinzuufügen sektor und evtl. industrie"
   ]
  },
  {
   "cell_type": "markdown",
   "metadata": {},
   "source": [
    "# XX_Trials"
   ]
  },
  {
   "cell_type": "code",
   "execution_count": 10,
   "metadata": {},
   "outputs": [],
   "source": [
    "aapl_df = load_stock_history(\"AAPL\")"
   ]
  },
  {
   "cell_type": "code",
   "execution_count": 13,
   "metadata": {},
   "outputs": [
    {
     "name": "stdout",
     "output_type": "stream",
     "text": [
      "['cik', 'ticker_x', 'adsh', 'period', 'filed', 'form', 'bs_qtrs', 'fp', 'Assets', 'AssetsNoncurrent', 'AssetsCurrent', 'Liabilities', 'LiabilitiesNoncurrent', 'LiabilitiesCurrent', 'c_Equity', 'c_RetainedEarnings', 'cf_qtrs', 'c_CashIncreaseDecrease', 'c_CashFromOperating', 'c_CashFromInvesting', 'c_CashFromFinancing', 'c_PaymentsOfDividendsTotal', 'c_PaymentsForRepurchaseOfStockTotal', 'is_qtrs', 'c_Revenues', 'GrossProfit', 'c_OperatingIncomeLoss', 'c_NetIncomeLoss', 'period_day_of_week', 'period_day_of_month', 'period_day_of_year', 'period_week_of_year', 'period_month_of_year', 'r_workcapToAssets', 'r_currentRatio', 'r_deptToEquity', 'r_deptRatio', 'r_netProfitMargin', 'r_operatingMargin', 'r_netIncomeMargin', 'r_cashGenPowerRatio', 'r_extFinancingIndexRatio', 'r_returnOnEquity', 'r_returnOnAssets', 'r_assetsTurnoverRatio', 'r_dividendPayoutRatio', 'r_stockRepurchaseRatio', 'r_operatingCashFlowRatio', 'r_assetEfficiencyRatio', 'r_currentLiabCoverageRatio', 'r_longtermDeptCoverageRatio', 'gr_revenue_n', 'gr_revenue_p', 'gr_grosspr_n', 'gr_grosspr_p', 'gr_opiincome_n', 'gr_opiincome_p', 'gr_netincome_n', 'gr_netincome_p', 'gr_earnings_n', 'gr_earnings_p', 'gr_equity_n', 'gr_equity_p', 'gr_asscur_n', 'gr_asscur_p', 'gr_assnoncur_n', 'gr_assnoncur_p', 'gr_liabcur_n', 'gr_liabcur_p', 'gr_liabnoncur_n', 'gr_liabnoncur_p', 'gr_cashfrominv_n', 'gr_cashfrominv_p', 'gr_cashfromfin_n', 'gr_cashfromfin_p', 'gr_cashfromope_n', 'gr_cashfromope_p', 'gr_dividends_n', 'gr_dividends_p', 'fp__FY', 'fp__Q1', 'fp__Q2', 'fp__Q3', 'fp__Q4', 'year', 'Date', 'Open', 'High', 'Low', 'Close', 'Volume', 'close_norm', 'high_norm', 'low_norm', 'open_norm', 'volume_norm', 'close_chg', 'volume_chg', 'day_of_week', 'day_of_month', 'day_of_year', 'week_of_year', 'month_of_year', 'ticker_y', 'pr_p2e', 'pr_p2b', 'pr_p2egr_1y', 'c_max_10day', 'r_potential']\n"
     ]
    }
   ],
   "source": [
    "print(aapl_df.columns.to_list())"
   ]
  },
  {
   "cell_type": "code",
   "execution_count": 16,
   "metadata": {
    "collapsed": true,
    "jupyter": {
     "outputs_hidden": true
    }
   },
   "outputs": [
    {
     "data": {
      "text/html": [
       "<div>\n",
       "<style scoped>\n",
       "    .dataframe tbody tr th:only-of-type {\n",
       "        vertical-align: middle;\n",
       "    }\n",
       "\n",
       "    .dataframe tbody tr th {\n",
       "        vertical-align: top;\n",
       "    }\n",
       "\n",
       "    .dataframe thead th {\n",
       "        text-align: right;\n",
       "    }\n",
       "</style>\n",
       "<table border=\"1\" class=\"dataframe\">\n",
       "  <thead>\n",
       "    <tr style=\"text-align: right;\">\n",
       "      <th></th>\n",
       "      <th>cik</th>\n",
       "      <th>ticker_x</th>\n",
       "      <th>adsh</th>\n",
       "      <th>period</th>\n",
       "      <th>filed</th>\n",
       "      <th>form</th>\n",
       "      <th>bs_qtrs</th>\n",
       "      <th>fp</th>\n",
       "      <th>Assets</th>\n",
       "      <th>AssetsNoncurrent</th>\n",
       "      <th>...</th>\n",
       "      <th>day_of_month</th>\n",
       "      <th>day_of_year</th>\n",
       "      <th>week_of_year</th>\n",
       "      <th>month_of_year</th>\n",
       "      <th>ticker_y</th>\n",
       "      <th>pr_p2e</th>\n",
       "      <th>pr_p2b</th>\n",
       "      <th>pr_p2egr_1y</th>\n",
       "      <th>c_max_10day</th>\n",
       "      <th>r_potential</th>\n",
       "    </tr>\n",
       "  </thead>\n",
       "  <tbody>\n",
       "    <tr>\n",
       "      <th>0</th>\n",
       "      <td>320193.0</td>\n",
       "      <td>AAPL</td>\n",
       "      <td>0001193125-12-182321</td>\n",
       "      <td>2012-03-31</td>\n",
       "      <td>2012-04-25</td>\n",
       "      <td>10-Q</td>\n",
       "      <td>0.0</td>\n",
       "      <td>Q2</td>\n",
       "      <td>1.509340e+11</td>\n",
       "      <td>1.002220e+11</td>\n",
       "      <td>...</td>\n",
       "      <td>0.806452</td>\n",
       "      <td>0.317808</td>\n",
       "      <td>0.326923</td>\n",
       "      <td>0.333333</td>\n",
       "      <td>AAPL</td>\n",
       "      <td>27.431174</td>\n",
       "      <td>3.110354</td>\n",
       "      <td>5.0</td>\n",
       "      <td>18.072315</td>\n",
       "      <td>-0.030499</td>\n",
       "    </tr>\n",
       "    <tr>\n",
       "      <th>1</th>\n",
       "      <td>320193.0</td>\n",
       "      <td>AAPL</td>\n",
       "      <td>0001193125-12-182321</td>\n",
       "      <td>2012-03-31</td>\n",
       "      <td>2012-04-25</td>\n",
       "      <td>10-Q</td>\n",
       "      <td>0.0</td>\n",
       "      <td>Q2</td>\n",
       "      <td>1.509340e+11</td>\n",
       "      <td>1.002220e+11</td>\n",
       "      <td>...</td>\n",
       "      <td>0.838710</td>\n",
       "      <td>0.320548</td>\n",
       "      <td>0.326923</td>\n",
       "      <td>0.333333</td>\n",
       "      <td>AAPL</td>\n",
       "      <td>27.327735</td>\n",
       "      <td>3.098626</td>\n",
       "      <td>5.0</td>\n",
       "      <td>18.044258</td>\n",
       "      <td>-0.028340</td>\n",
       "    </tr>\n",
       "    <tr>\n",
       "      <th>2</th>\n",
       "      <td>320193.0</td>\n",
       "      <td>AAPL</td>\n",
       "      <td>0001193125-12-182321</td>\n",
       "      <td>2012-03-31</td>\n",
       "      <td>2012-04-25</td>\n",
       "      <td>10-Q</td>\n",
       "      <td>0.0</td>\n",
       "      <td>Q2</td>\n",
       "      <td>1.509340e+11</td>\n",
       "      <td>1.002220e+11</td>\n",
       "      <td>...</td>\n",
       "      <td>0.870968</td>\n",
       "      <td>0.323288</td>\n",
       "      <td>0.326923</td>\n",
       "      <td>0.333333</td>\n",
       "      <td>AAPL</td>\n",
       "      <td>27.116390</td>\n",
       "      <td>3.074662</td>\n",
       "      <td>5.0</td>\n",
       "      <td>18.028843</td>\n",
       "      <td>-0.021604</td>\n",
       "    </tr>\n",
       "    <tr>\n",
       "      <th>3</th>\n",
       "      <td>320193.0</td>\n",
       "      <td>AAPL</td>\n",
       "      <td>0001193125-12-182321</td>\n",
       "      <td>2012-03-31</td>\n",
       "      <td>2012-04-25</td>\n",
       "      <td>10-Q</td>\n",
       "      <td>0.0</td>\n",
       "      <td>Q2</td>\n",
       "      <td>1.509340e+11</td>\n",
       "      <td>1.002220e+11</td>\n",
       "      <td>...</td>\n",
       "      <td>0.967742</td>\n",
       "      <td>0.331507</td>\n",
       "      <td>0.346154</td>\n",
       "      <td>0.333333</td>\n",
       "      <td>AAPL</td>\n",
       "      <td>26.261065</td>\n",
       "      <td>2.977679</td>\n",
       "      <td>5.0</td>\n",
       "      <td>17.887642</td>\n",
       "      <td>0.002350</td>\n",
       "    </tr>\n",
       "    <tr>\n",
       "      <th>4</th>\n",
       "      <td>320193.0</td>\n",
       "      <td>AAPL</td>\n",
       "      <td>0001193125-12-182321</td>\n",
       "      <td>2012-03-31</td>\n",
       "      <td>2012-04-25</td>\n",
       "      <td>10-Q</td>\n",
       "      <td>0.0</td>\n",
       "      <td>Q2</td>\n",
       "      <td>1.509340e+11</td>\n",
       "      <td>1.002220e+11</td>\n",
       "      <td>...</td>\n",
       "      <td>0.032258</td>\n",
       "      <td>0.334247</td>\n",
       "      <td>0.346154</td>\n",
       "      <td>0.416667</td>\n",
       "      <td>AAPL</td>\n",
       "      <td>26.177886</td>\n",
       "      <td>2.968247</td>\n",
       "      <td>5.0</td>\n",
       "      <td>17.887642</td>\n",
       "      <td>0.005535</td>\n",
       "    </tr>\n",
       "    <tr>\n",
       "      <th>...</th>\n",
       "      <td>...</td>\n",
       "      <td>...</td>\n",
       "      <td>...</td>\n",
       "      <td>...</td>\n",
       "      <td>...</td>\n",
       "      <td>...</td>\n",
       "      <td>...</td>\n",
       "      <td>...</td>\n",
       "      <td>...</td>\n",
       "      <td>...</td>\n",
       "      <td>...</td>\n",
       "      <td>...</td>\n",
       "      <td>...</td>\n",
       "      <td>...</td>\n",
       "      <td>...</td>\n",
       "      <td>...</td>\n",
       "      <td>...</td>\n",
       "      <td>...</td>\n",
       "      <td>...</td>\n",
       "      <td>...</td>\n",
       "      <td>...</td>\n",
       "    </tr>\n",
       "    <tr>\n",
       "      <th>2167</th>\n",
       "      <td>320193.0</td>\n",
       "      <td>AAPL</td>\n",
       "      <td>0000320193-20-000062</td>\n",
       "      <td>2020-06-30</td>\n",
       "      <td>2020-07-31</td>\n",
       "      <td>10-Q</td>\n",
       "      <td>0.0</td>\n",
       "      <td>Q3</td>\n",
       "      <td>3.173440e+11</td>\n",
       "      <td>1.772790e+11</td>\n",
       "      <td>...</td>\n",
       "      <td>0.096774</td>\n",
       "      <td>0.926027</td>\n",
       "      <td>0.942308</td>\n",
       "      <td>1.000000</td>\n",
       "      <td>AAPL</td>\n",
       "      <td>100.000000</td>\n",
       "      <td>29.088589</td>\n",
       "      <td>5.0</td>\n",
       "      <td>0.000000</td>\n",
       "      <td>-1.000000</td>\n",
       "    </tr>\n",
       "    <tr>\n",
       "      <th>2168</th>\n",
       "      <td>320193.0</td>\n",
       "      <td>AAPL</td>\n",
       "      <td>0000320193-20-000062</td>\n",
       "      <td>2020-06-30</td>\n",
       "      <td>2020-07-31</td>\n",
       "      <td>10-Q</td>\n",
       "      <td>0.0</td>\n",
       "      <td>Q3</td>\n",
       "      <td>3.173440e+11</td>\n",
       "      <td>1.772790e+11</td>\n",
       "      <td>...</td>\n",
       "      <td>0.129032</td>\n",
       "      <td>0.928767</td>\n",
       "      <td>0.942308</td>\n",
       "      <td>1.000000</td>\n",
       "      <td>AAPL</td>\n",
       "      <td>100.000000</td>\n",
       "      <td>28.925329</td>\n",
       "      <td>5.0</td>\n",
       "      <td>0.000000</td>\n",
       "      <td>-1.000000</td>\n",
       "    </tr>\n",
       "    <tr>\n",
       "      <th>2169</th>\n",
       "      <td>320193.0</td>\n",
       "      <td>AAPL</td>\n",
       "      <td>0000320193-20-000062</td>\n",
       "      <td>2020-06-30</td>\n",
       "      <td>2020-07-31</td>\n",
       "      <td>10-Q</td>\n",
       "      <td>0.0</td>\n",
       "      <td>Q3</td>\n",
       "      <td>3.173440e+11</td>\n",
       "      <td>1.772790e+11</td>\n",
       "      <td>...</td>\n",
       "      <td>0.225806</td>\n",
       "      <td>0.936986</td>\n",
       "      <td>0.961538</td>\n",
       "      <td>1.000000</td>\n",
       "      <td>AAPL</td>\n",
       "      <td>100.000000</td>\n",
       "      <td>29.280241</td>\n",
       "      <td>5.0</td>\n",
       "      <td>0.000000</td>\n",
       "      <td>-1.000000</td>\n",
       "    </tr>\n",
       "    <tr>\n",
       "      <th>2170</th>\n",
       "      <td>320193.0</td>\n",
       "      <td>AAPL</td>\n",
       "      <td>0000320193-20-000062</td>\n",
       "      <td>2020-06-30</td>\n",
       "      <td>2020-07-31</td>\n",
       "      <td>10-Q</td>\n",
       "      <td>0.0</td>\n",
       "      <td>Q3</td>\n",
       "      <td>3.173440e+11</td>\n",
       "      <td>1.772790e+11</td>\n",
       "      <td>...</td>\n",
       "      <td>0.258065</td>\n",
       "      <td>0.939726</td>\n",
       "      <td>0.961538</td>\n",
       "      <td>1.000000</td>\n",
       "      <td>AAPL</td>\n",
       "      <td>100.000000</td>\n",
       "      <td>29.429303</td>\n",
       "      <td>5.0</td>\n",
       "      <td>0.000000</td>\n",
       "      <td>-1.000000</td>\n",
       "    </tr>\n",
       "    <tr>\n",
       "      <th>2171</th>\n",
       "      <td>320193.0</td>\n",
       "      <td>AAPL</td>\n",
       "      <td>0000320193-20-000062</td>\n",
       "      <td>2020-06-30</td>\n",
       "      <td>2020-07-31</td>\n",
       "      <td>10-Q</td>\n",
       "      <td>0.0</td>\n",
       "      <td>Q3</td>\n",
       "      <td>3.173440e+11</td>\n",
       "      <td>1.772790e+11</td>\n",
       "      <td>...</td>\n",
       "      <td>0.290323</td>\n",
       "      <td>0.942466</td>\n",
       "      <td>0.961538</td>\n",
       "      <td>1.000000</td>\n",
       "      <td>AAPL</td>\n",
       "      <td>100.000000</td>\n",
       "      <td>28.814123</td>\n",
       "      <td>5.0</td>\n",
       "      <td>0.000000</td>\n",
       "      <td>-1.000000</td>\n",
       "    </tr>\n",
       "  </tbody>\n",
       "</table>\n",
       "<p>2172 rows × 109 columns</p>\n",
       "</div>"
      ],
      "text/plain": [
       "           cik ticker_x                  adsh      period       filed  form  \\\n",
       "0     320193.0     AAPL  0001193125-12-182321  2012-03-31  2012-04-25  10-Q   \n",
       "1     320193.0     AAPL  0001193125-12-182321  2012-03-31  2012-04-25  10-Q   \n",
       "2     320193.0     AAPL  0001193125-12-182321  2012-03-31  2012-04-25  10-Q   \n",
       "3     320193.0     AAPL  0001193125-12-182321  2012-03-31  2012-04-25  10-Q   \n",
       "4     320193.0     AAPL  0001193125-12-182321  2012-03-31  2012-04-25  10-Q   \n",
       "...        ...      ...                   ...         ...         ...   ...   \n",
       "2167  320193.0     AAPL  0000320193-20-000062  2020-06-30  2020-07-31  10-Q   \n",
       "2168  320193.0     AAPL  0000320193-20-000062  2020-06-30  2020-07-31  10-Q   \n",
       "2169  320193.0     AAPL  0000320193-20-000062  2020-06-30  2020-07-31  10-Q   \n",
       "2170  320193.0     AAPL  0000320193-20-000062  2020-06-30  2020-07-31  10-Q   \n",
       "2171  320193.0     AAPL  0000320193-20-000062  2020-06-30  2020-07-31  10-Q   \n",
       "\n",
       "      bs_qtrs  fp        Assets  AssetsNoncurrent  ...  day_of_month  \\\n",
       "0         0.0  Q2  1.509340e+11      1.002220e+11  ...      0.806452   \n",
       "1         0.0  Q2  1.509340e+11      1.002220e+11  ...      0.838710   \n",
       "2         0.0  Q2  1.509340e+11      1.002220e+11  ...      0.870968   \n",
       "3         0.0  Q2  1.509340e+11      1.002220e+11  ...      0.967742   \n",
       "4         0.0  Q2  1.509340e+11      1.002220e+11  ...      0.032258   \n",
       "...       ...  ..           ...               ...  ...           ...   \n",
       "2167      0.0  Q3  3.173440e+11      1.772790e+11  ...      0.096774   \n",
       "2168      0.0  Q3  3.173440e+11      1.772790e+11  ...      0.129032   \n",
       "2169      0.0  Q3  3.173440e+11      1.772790e+11  ...      0.225806   \n",
       "2170      0.0  Q3  3.173440e+11      1.772790e+11  ...      0.258065   \n",
       "2171      0.0  Q3  3.173440e+11      1.772790e+11  ...      0.290323   \n",
       "\n",
       "      day_of_year  week_of_year  month_of_year  ticker_y      pr_p2e  \\\n",
       "0        0.317808      0.326923       0.333333      AAPL   27.431174   \n",
       "1        0.320548      0.326923       0.333333      AAPL   27.327735   \n",
       "2        0.323288      0.326923       0.333333      AAPL   27.116390   \n",
       "3        0.331507      0.346154       0.333333      AAPL   26.261065   \n",
       "4        0.334247      0.346154       0.416667      AAPL   26.177886   \n",
       "...           ...           ...            ...       ...         ...   \n",
       "2167     0.926027      0.942308       1.000000      AAPL  100.000000   \n",
       "2168     0.928767      0.942308       1.000000      AAPL  100.000000   \n",
       "2169     0.936986      0.961538       1.000000      AAPL  100.000000   \n",
       "2170     0.939726      0.961538       1.000000      AAPL  100.000000   \n",
       "2171     0.942466      0.961538       1.000000      AAPL  100.000000   \n",
       "\n",
       "         pr_p2b  pr_p2egr_1y  c_max_10day  r_potential  \n",
       "0      3.110354          5.0    18.072315    -0.030499  \n",
       "1      3.098626          5.0    18.044258    -0.028340  \n",
       "2      3.074662          5.0    18.028843    -0.021604  \n",
       "3      2.977679          5.0    17.887642     0.002350  \n",
       "4      2.968247          5.0    17.887642     0.005535  \n",
       "...         ...          ...          ...          ...  \n",
       "2167  29.088589          5.0     0.000000    -1.000000  \n",
       "2168  28.925329          5.0     0.000000    -1.000000  \n",
       "2169  29.280241          5.0     0.000000    -1.000000  \n",
       "2170  29.429303          5.0     0.000000    -1.000000  \n",
       "2171  28.814123          5.0     0.000000    -1.000000  \n",
       "\n",
       "[2172 rows x 109 columns]"
      ]
     },
     "execution_count": 16,
     "metadata": {},
     "output_type": "execute_result"
    }
   ],
   "source": [
    "aapl_df"
   ]
  },
  {
   "cell_type": "code",
   "execution_count": null,
   "metadata": {},
   "outputs": [],
   "source": [
    "# check wether a dataset can be transformed\n",
    "pandas_df = assembler.transform(df_30_100).toPandas()\n",
    "#assembler.setHandleInvalid(\"skip\").transform(df_30_100, new_dict).toPandas().shape"
   ]
  }
 ],
 "metadata": {
  "kernelspec": {
   "display_name": "Python 3",
   "language": "python",
   "name": "python3"
  },
  "language_info": {
   "codemirror_mode": {
    "name": "ipython",
    "version": 3
   },
   "file_extension": ".py",
   "mimetype": "text/x-python",
   "name": "python",
   "nbconvert_exporter": "python",
   "pygments_lexer": "ipython3",
   "version": "3.7.7"
  },
  "pycharm": {
   "stem_cell": {
    "cell_type": "raw",
    "metadata": {
     "collapsed": false
    },
    "source": []
   }
  }
 },
 "nbformat": 4,
 "nbformat_minor": 4
}
